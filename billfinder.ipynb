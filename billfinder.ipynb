{
 "cells": [
  {
   "cell_type": "code",
   "execution_count": null,
   "id": "a1204c32-ee3c-4b1e-9a69-17448ed34ca0",
   "metadata": {},
   "outputs": [],
   "source": [
    "import requests\n",
    "from bs4 import BeautifulSoup"
   ]
  },
  {
   "cell_type": "code",
   "execution_count": 63,
   "id": "66b2c68f-ba3f-4d17-b8fd-8baa1ddd74f1",
   "metadata": {},
   "outputs": [],
   "source": [
    "class BillFinder:\n",
    "    \n",
    "    def __init__(self):\n",
    "        \n",
    "        self.source_urls_energy = {'Canada': 'https://en.wikipedia.org/wiki/List_of_Canadian_electric_utilities',\n",
    "                                   'USA': 'https://en.wikipedia.org/wiki/List_of_United_States_electric_companies',\n",
    "                                   'UK': 'https://www.utilitysavingexpert.com/energy/suppliers/'}\n",
    "        \n",
    "        self.source_urls_water = {'USA': 'https://en.wikipedia.org/wiki/List_of_United_States_water_companies',\n",
    "                                  'UK': 'https://en.wikipedia.org/wiki/United_Kingdom_water_companies'}\n",
    "    \n",
    "    def get_energy_companies(self, country: str = None):\n",
    "    \n",
    "        company_set = set()\n",
    "        soup = BeautifulSoup(requests.get(self.source_urls_energy[country]).text)\n",
    "        \n",
    "        if country == 'Canada':\n",
    "            for t in soup.find_all('table', role=\"presentation\"):\n",
    "                for _ in t.find_all('li'):\n",
    "                    for a in _.find_all('a'):\n",
    "                        company_set.add(a.text)\n",
    "        elif country == 'USA':\n",
    "            for t in soup.find('span', id=\"List_of_US_electric_companies_by_state\"):\n",
    "                for e in t.parent.next_elements:\n",
    "                    if e.name == 'table':\n",
    "                        break\n",
    "                    if e.name == 'ul':\n",
    "                        for _ in e.find_all('li'):\n",
    "                            if company_name := _.text.strip():\n",
    "                                company_set.add(company_name)\n",
    "        elif country == 'UK':\n",
    "            for header_text in ['List of UK energy suppliers', 'List of business energy suppliers']:\n",
    "                p = soup.find('h2', string=header_text).parent\n",
    "                for _ in p.find_all('div', class_=\"table-responsive\"):\n",
    "                    for row in _.find_all('tr'):\n",
    "                        if tds := row.find_all('td'):\n",
    "                            company_set.add(tds[1].text)\n",
    "                            \n",
    "        print(f'found {len(company_set):,} companies')\n",
    "                        \n",
    "        return company_set\n",
    "    \n",
    "    def get_water_companies(self, country: str = None):\n",
    "    \n",
    "        company_set = set()\n",
    "        soup = BeautifulSoup(requests.get(self.source_urls_water[country]).text)\n",
    "        \n",
    "        if country == 'USA':\n",
    "            for t in soup.find_all('h2'):\n",
    "                if t.find_all('a', href=True):\n",
    "                    if list_of_company_names := t.find_next_sibling('ul'):\n",
    "                        for name_line in list_of_company_names.find_all('li'):\n",
    "                            if company_name := name_line.text.strip():\n",
    "                                company_set.add(company_name)\n",
    "        elif country == 'UK':\n",
    "            for s in soup.find('span', id='Water_and_sewerage').parent.next_siblings:\n",
    "                if s.name == 'table':\n",
    "                    for row in s.find_all('tr'):\n",
    "                        if tds := row.find_all('td'):\n",
    "                            company_set.add(tds[0].text.strip()) \n",
    "                    break\n",
    "            for s in soup.find('span', id='Water_only').parent.next_siblings:\n",
    "                if s.name == 'table':\n",
    "                    for row in s.find_all('tr'):\n",
    "                        if tds := row.find_all('td'):\n",
    "                            company_set.add(tds[0].text.strip()) \n",
    "                    break\n",
    "                    \n",
    "            for id_ in ['Scotland', 'Northern_Ireland', 'Crown_dependencies']:\n",
    "                for s in soup.find('span', id=id_).parent.next_siblings:\n",
    "                    if s.name == 'ul':\n",
    "                        for item_ in s.find_all('li'):\n",
    "                            company_set.add(item_.text)\n",
    "                        break\n",
    "                            \n",
    "        print(f'found {len(company_set):,} companies')\n",
    "                        \n",
    "        return company_set"
   ]
  },
  {
   "cell_type": "code",
   "execution_count": 64,
   "id": "1eb69da0-84ec-425c-9dfc-72b2cb4e8115",
   "metadata": {},
   "outputs": [],
   "source": [
    "bf = BillFinder()"
   ]
  },
  {
   "cell_type": "code",
   "execution_count": 65,
   "id": "876c0097-79d2-4227-8404-9d4bd961d1b7",
   "metadata": {},
   "outputs": [
    {
     "name": "stdout",
     "output_type": "stream",
     "text": [
      "found 30 companies\n"
     ]
    },
    {
     "data": {
      "text/plain": [
       "{'Affinity Water',\n",
       " 'Albion Water',\n",
       " 'Anglian Water',\n",
       " 'Bournemouth Water',\n",
       " 'Bristol Water',\n",
       " 'Cambridge Water Company',\n",
       " 'Cholderton and District Water Company',\n",
       " 'Dŵr Cymru Welsh Water',\n",
       " 'Essex and Suffolk Water',\n",
       " 'Everflow[2]',\n",
       " 'Guernsey Water (government)',\n",
       " 'Hafren Dyfrdwy',\n",
       " 'Hartlepool Water',\n",
       " 'Isle of Man Water Authority (government)',\n",
       " 'Jersey Water (private)',\n",
       " 'Northern Ireland Water (government)',\n",
       " 'Northumbrian Water',\n",
       " 'Portsmouth Water',\n",
       " 'Scottish Water (government)',\n",
       " 'Severn Trent Water',\n",
       " 'South East Water',\n",
       " 'South Staffordshire Water',\n",
       " 'South West Water',\n",
       " 'Southern Water',\n",
       " 'Sutton and East Surrey Water',\n",
       " 'Thames Water',\n",
       " 'United Utilities',\n",
       " 'Wessex Water',\n",
       " 'Yorkshire Water',\n",
       " 'Youlgrave Waterworks'}"
      ]
     },
     "execution_count": 65,
     "metadata": {},
     "output_type": "execute_result"
    }
   ],
   "source": [
    "bf.get_water_companies(country='UK')"
   ]
  },
  {
   "cell_type": "code",
   "execution_count": null,
   "id": "672bca48-19fa-4fd1-ae93-0001100d9e32",
   "metadata": {},
   "outputs": [],
   "source": []
  }
 ],
 "metadata": {
  "kernelspec": {
   "display_name": "Python 3 (ipykernel)",
   "language": "python",
   "name": "python3"
  },
  "language_info": {
   "codemirror_mode": {
    "name": "ipython",
    "version": 3
   },
   "file_extension": ".py",
   "mimetype": "text/x-python",
   "name": "python",
   "nbconvert_exporter": "python",
   "pygments_lexer": "ipython3",
   "version": "3.9.9"
  }
 },
 "nbformat": 4,
 "nbformat_minor": 5
}
