{
 "cells": [
  {
   "cell_type": "code",
   "execution_count": 7,
   "id": "a1204c32-ee3c-4b1e-9a69-17448ed34ca0",
   "metadata": {},
   "outputs": [],
   "source": [
    "import requests\n",
    "from bs4 import BeautifulSoup"
   ]
  },
  {
   "cell_type": "code",
   "execution_count": 8,
   "id": "66b2c68f-ba3f-4d17-b8fd-8baa1ddd74f1",
   "metadata": {},
   "outputs": [],
   "source": [
    "class BillFinder:\n",
    "    \n",
    "    def __init__(self):\n",
    "        \n",
    "        self.source_urls = {'Canada': 'https://en.wikipedia.org/wiki/List_of_Canadian_electric_utilities',\n",
    "                            'USA': 'https://en.wikipedia.org/wiki/List_of_United_States_electric_companies',\n",
    "                            'UK': 'https://www.utilitysavingexpert.com/energy/suppliers/'}\n",
    "    \n",
    "    def get_energy_companies(self, country: str = None):\n",
    "    \n",
    "        company_set = set()\n",
    "        soup = BeautifulSoup(requests.get(self.source_urls[country]).text)\n",
    "        \n",
    "        if country == 'Canada':\n",
    "            for t in soup.find_all('table', role=\"presentation\"):\n",
    "                for _ in t.find_all('li'):\n",
    "                    for a in _.find_all('a'):\n",
    "                        company_set.add(a.text)\n",
    "        elif country == 'USA':\n",
    "            for t in soup.find('span', id=\"List_of_US_electric_companies_by_state\"):\n",
    "                for e in t.parent.next_elements:\n",
    "                    if e.name == 'table':\n",
    "                        break\n",
    "                    if e.name == 'ul':\n",
    "                        for _ in e.find_all('li'):\n",
    "                            if company_name := _.text.strip():\n",
    "                                company_set.add(company_name)\n",
    "        elif country == 'UK':\n",
    "            for header_text in ['List of UK energy suppliers', 'List of business energy suppliers']:\n",
    "                p = soup.find('h2', string=header_text).parent\n",
    "                for _ in p.find_all('div', class_=\"table-responsive\"):\n",
    "                    for row in _.find_all('tr'):\n",
    "                        if tds := row.find_all('td'):\n",
    "                            company_set.add(tds[1].text)\n",
    "                            \n",
    "        print(f'found {len(company_set):,} companies')\n",
    "                        \n",
    "        return company_set"
   ]
  },
  {
   "cell_type": "code",
   "execution_count": 9,
   "id": "1eb69da0-84ec-425c-9dfc-72b2cb4e8115",
   "metadata": {},
   "outputs": [],
   "source": [
    "bf = BillFinder()"
   ]
  },
  {
   "cell_type": "code",
   "execution_count": null,
   "id": "876c0097-79d2-4227-8404-9d4bd961d1b7",
   "metadata": {},
   "outputs": [],
   "source": [
    "bf.get_energy_companies(country='UK')"
   ]
  }
 ],
 "metadata": {
  "kernelspec": {
   "display_name": "Python 3 (ipykernel)",
   "language": "python",
   "name": "python3"
  },
  "language_info": {
   "codemirror_mode": {
    "name": "ipython",
    "version": 3
   },
   "file_extension": ".py",
   "mimetype": "text/x-python",
   "name": "python",
   "nbconvert_exporter": "python",
   "pygments_lexer": "ipython3",
   "version": "3.9.9"
  }
 },
 "nbformat": 4,
 "nbformat_minor": 5
}
